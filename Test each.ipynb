{
 "cells": [
  {
   "cell_type": "code",
   "execution_count": 1,
   "metadata": {},
   "outputs": [
    {
     "name": "stdout",
     "output_type": "stream",
     "text": [
      "Extracted pages 254 to 272 and saved to ./output.pdf\n"
     ]
    }
   ],
   "source": [
    "from PDF.pdf_functions import extract_pages_from_pdf\n",
    "\n",
    "# Example usage:\n",
    "input_pdf_path = './input.pdf'\n",
    "start_page = 254\n",
    "end_page = 272\n",
    "output_pdf_path = './output.pdf'\n",
    "\n",
    "extract_pages_from_pdf(input_pdf_path, start_page, end_page, output_pdf_path)"
   ]
<<<<<<< HEAD
=======
  },
  {
   "cell_type": "code",
   "execution_count": 2,
   "metadata": {},
   "outputs": [
    {
     "data": {
      "text/plain": [
       "'3.0.1'"
      ]
     },
     "execution_count": 2,
     "metadata": {},
     "output_type": "execute_result"
    }
   ],
   "source": []
>>>>>>> 107a63ccb3336720ccc42d7c90f06e556f316dd9
  }
 ],
 "metadata": {
  "kernelspec": {
   "display_name": "Python 3",
   "language": "python",
   "name": "python3"
  },
  "language_info": {
   "codemirror_mode": {
    "name": "ipython",
    "version": 3
   },
   "file_extension": ".py",
   "mimetype": "text/x-python",
   "name": "python",
   "nbconvert_exporter": "python",
   "pygments_lexer": "ipython3",
   "version": "3.10.8"
  }
 },
 "nbformat": 4,
 "nbformat_minor": 2
}
